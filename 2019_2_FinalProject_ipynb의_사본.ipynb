{
  "nbformat": 4,
  "nbformat_minor": 0,
  "metadata": {
    "kernelspec": {
      "display_name": "Python 3",
      "language": "python",
      "name": "python3"
    },
    "language_info": {
      "codemirror_mode": {
        "name": "ipython",
        "version": 3
      },
      "file_extension": ".py",
      "mimetype": "text/x-python",
      "name": "python",
      "nbconvert_exporter": "python",
      "pygments_lexer": "ipython3",
      "version": "3.7.5"
    },
    "colab": {
      "name": "2019_2_FinalProject.ipynb의 사본",
      "provenance": [],
      "collapsed_sections": [],
      "include_colab_link": true
    }
  },
  "cells": [
    {
      "cell_type": "markdown",
      "metadata": {
        "id": "view-in-github",
        "colab_type": "text"
      },
      "source": [
        "<a href=\"https://colab.research.google.com/github/dw06070/EngMath/blob/master/2019_2_FinalProject_ipynb%EC%9D%98_%EC%82%AC%EB%B3%B8.ipynb\" target=\"_parent\"><img src=\"https://colab.research.google.com/assets/colab-badge.svg\" alt=\"Open In Colab\"/></a>"
      ]
    },
    {
      "cell_type": "markdown",
      "metadata": {
        "id": "C_jDSYuc8RlD",
        "colab_type": "text"
      },
      "source": [
        "[![Open In Colab](https://colab.research.google.com/assets/colab-badge.svg)](https://colab.research.google.com/github/SeoulTechPSE/EngMath/blob/master/etcs/2019_2_FinalProject.ipynb)"
      ]
    },
    {
      "cell_type": "code",
      "metadata": {
        "id": "eazNcze0-zvV",
        "colab_type": "code",
        "colab": {}
      },
      "source": [
        ""
      ],
      "execution_count": 0,
      "outputs": []
    },
    {
      "cell_type": "markdown",
      "metadata": {
        "id": "Ji71GDaUAfkR",
        "colab_type": "text"
      },
      "source": [
        "18101650 화공생명공학과 최진규 \n",
        "\n",
        "1번 문제 \n",
        "\n",
        ">$\\begin{align*}\n",
        " u_{rr} +\\frac{2}{r} u_r &+\\frac{1}{r^2}u_{\\theta\\theta} +\\frac{\\cot\\theta}{r^2} u_{\\theta} +\\frac{1}{r^2\\sin^2\\theta}u_{\\phi\\phi} = 0, \\;\\;r < R \\\\ \n",
        " u(R,\\theta,\\phi) &= g(\\theta,\\phi)\\\\ \n",
        "\\end{align*}$\n",
        "\n",
        "변수분리를 이용하자.\n",
        "\n",
        ">$\\begin{align*}\n",
        "u(R,\\theta,\\phi) &= R(r){\\Theta}(\\theta){\\Phi}(\\phi) \n",
        "\\end{align*}$\n",
        "\n",
        "위의 변수들로 분리한 함수를 라플라스 방정식에 대입한후에 정리하면\n",
        "\n",
        ">$\\begin{align*}\n",
        "(1/{\\Phi}){\\Phi}''=({-sin^2\\theta}/R)d/dr(r^2*dR/dr){-(sin^2\\theta}/{\\theta})d/d\\theta(sin\\theta*d{\\Theta/d\\theta})=-m^2\n",
        "\\end{align*}$\n",
        "\n",
        ">$\\begin{align*}\n",
        "(1/{\\Phi}){\\Phi}''=-m^2에서  {\\Phi}=e^(\\alpha\\phi)\n",
        "따라서 \\alpha=+im,-im\n",
        "\\end{align*}$\n",
        "\n",
        ">$\\begin{align*}\n",
        " 따라서 \\Phi=e^(+-im\\phi)\n",
        " \\end{align*}$\n",
        ">$\\begin{align*}\n",
        " 그 다음으로 R과 \\theta에 관한 식을 살펴보면\n",
        "\\end{align*}$\n",
        " >$\\begin{align*}\n",
        "({sin^2\\theta}/R)d/dr(r^2*dR/dr){(sin^2\\theta}/{\\theta})d/d\\theta(sin\\theta*d{\\Theta/d\\theta})=m^2\n",
        "\\end{align*}$\n",
        "\n",
        "여기서 \n",
        "R에 대한 미분방정식부터 살펴보면\n",
        "\n",
        ">$\\begin{align*}\n",
        "r^2(d^2R/dr^2)+2r(dR/dr)-l(l+1)R=0\n",
        "\\end{align*}$\n",
        "\n",
        ">$\\begin{align*}\n",
        "   R=r^\\alpha 를 대입해서 식을 풀면\n",
        "\\end{align*}$\n",
        "\n",
        ">$\\begin{align*}\n",
        "R(r)=r^l \n",
        "\\end{align*}$\n",
        "\n",
        "or\n",
        ">$\\begin{align*}\n",
        "r^(-l-1)\n",
        "\\end{align*}$\n",
        "\n",
        ">$\\begin{align*}\n",
        "다음으로 \\theta에 대한 미분방정식에서 x=cos\\theta,y=\\Theta(\\theta)로 치환하면\n",
        "\\Theta에 관한 식을 아래와 같이 바뀐다.\n",
        "\\end{align*}$\n",
        "\n",
        ">$\\begin{align*}\n",
        "(1-x^2)(d^2y/dx^2)-2x(dy/dx)+[l(l+1)-m^2/(sin^2(\\theta))]y=0\n",
        "\\end{align*}$\n",
        "\n",
        "위의 방정식의 해를 르장드르 연관 다항식이라고 부르고 아래와 같이 적는다.\n",
        ">$\\begin{align*}\n",
        "y(x)=P^m{_l}(x),l=0,1,2,3,..., m=-l,-l+1,..,l-1,l\n",
        "P^m(x){_l}(x)=(1/2^ll!)(1-x^2)^(m/2)*d^(l+m)/dx^(l+m)*(x^2-1)^l,m=-l,-l+1,..,l-1,l\n",
        "\\end{align*}$\n",
        "\n",
        ">$\\begin{align*}\n",
        "P^(-m)(x){_l}(x)=(-1)^m*(l-m)!/(l+m)!*P^m(x){_l}(x)\n",
        "\\end{align*}$\n",
        "따라서 구하고자하는 해는\n",
        ">$\\begin{align*}\n",
        "u(r,\\theta,\\phi)=(r^l,r^(l-1))P^m{__l}(cos\\theta)(e^(im\\phi),e^(-im\\phi)\n",
        "\\end{align*}$\n",
        "\n",
        "이제 구면조화함수를 정의할 수 있다. 라플라스 미분방정식은 반지름과 세타와 파이에 대한 함수로 되어 있다. 하지만 우리에게 필요한 것이 구 표면을 정의하는 함수이므로 r에 대한 부분은 필요없다. 따라서, 세타와 파이에 관한 라플라스 미분방정식의 해를 구면조화함수라고 부른다.\n",
        "\n",
        ">$\\displaystyle u(r,\\theta,\\phi) = \\int_0^{2\\pi} \\int_0^\\pi K(r,\\theta,\\phi; R,\\vartheta,\\varphi)\\, g(\\vartheta,\\varphi) \\sin\\vartheta \\, d\\vartheta\\,d\\varphi $에서\n",
        ">$\\begin{align*}\n",
        " K(r,\\theta,\\phi)\n",
        " 는 구면조화함수와 같다\n",
        " \\end{align*}$\n",
        " >$\\begin{align*}\n",
        " 구면조화함수 \n",
        " Y^m{_l}(x)=(-1)^m*root((2l+1)/4phi*(l-m)!/(l+m)!)P^m{__l}(cos\\theta)*e^(im\\phi)\n",
        " ,,l=0,1,2,3,..., m=-l,-l+1,..,l-1,l\n",
        " \\end{align*}$\n",
        "\n",
        "\n",
        "sol2)\n",
        "\n",
        "g(theta,phi)=sigma(n=0,infinite)[1/2an0Pn(costheta)+sigma(m=1,n)(anmcosmphi+bnmsinmphi)Pnm(costheta)]\n",
        "\n",
        "anm=(2n+1)(n-m)!/(2pi*(n+m)!)*integral(-pi,pi)integral(0,pi)(u(r,theta,pi)Pnm(cos(theta)*cos(m*phi)sin(theta)d(theta)d(phi)\n",
        "\n",
        "bnm(r)=(2n+1)(n-m)!/(2pi*(n+m)!)*integral(-pi,pi)integral(0,pi)(u(r,theta,pi)Pnm(cos(theta)*sin(m*phi)sin(theta)d(theta)d(phi)\n",
        "\n",
        "u(r,theta,pi)=sigma(n=0,infinite)(r/R)^n[1/2*an0Pnm(costheta)+sigma(m=1,n)(anmcosmphi+bnmsinmphi)Pnm(costheta)\n",
        "\n",
        "K(r,theta,phi;R,'theta,'phi)=1/4pisigma(0,infinite(2n+1)(r/R)^2Pn(cos'theta)\n",
        "\n"
      ]
    },
    {
      "cell_type": "markdown",
      "metadata": {
        "id": "tmDLUmHamPKY",
        "colab_type": "text"
      },
      "source": [
        "2.포아송 방정식\n",
        "\n",
        "주어진 라플라스 방정식이 비제차이고 공간좌표 r의 범위가 유한 구간이므로 Finite Fourier Transform을 이용하자\n",
        "\n",
        "anm(r)=(2n+1)(n-m)!/(2pi*(n+m)!)*integral(-pi,pi)integral(0,pi)(u(r,theta,pi)Pnm(cos(theta)*cos(m*phi)sin(theta)d(theta)d(phi)\n",
        "\n",
        "bnm(r)=(2n+1)(n-m)!/(2pi*(n+m)!)*integral(-pi,pi)integral(0,pi)(u(r,theta,pi)Pnm(cos(theta)*sin(m*phi)sin(theta)d(theta)d(phi)\n",
        "\n",
        "Anm(r)=(2n+1)(n-m)!/(2pi*(n+m)!)*integral(-pi,pi)integral(0,pi)(F(r,theta,pi)Pnm(cos(theta)*cos(m*phi)sin(theta)d(theta)d(phi)\n",
        "\n",
        "Bnm(r)=(2n+1)(n-m)!/(2pi*(n+m)!)*integral(-pi,pi)integral(0,pi)(F(r,theta,pi)Pnm(cos(theta)*sin(m*phi)sin(theta)d(theta)d(phi)\n",
        "\n",
        "따라서 위의 식들을 이용해 변환하면\n",
        "\n",
        "anm''+(2/r)*anm'-n(n+1)/(r^2)*anm=-Anm\n",
        "\n",
        "bnm''+(2/r)*bnm'-n(n+1)/(r^2)*bnm=-Bnm\n",
        "\n",
        "anm(R)=0 , anm bounded\n",
        "bnm(R)=0, bnm bounded\n",
        "\n",
        "anm(r)=integral(0,R)Gn(r,'r)Anm('r)('r)^2d'r\n",
        "bnm(r)=integral(0,R)Gn(r,'r)Bnm('r)('r)^2d'r\n",
        "\n",
        "Gn(r,'r)=1/(2n+1)R*('r/R)^n*[(r/R)^(-n-1)-(r/R)^n] for 'r<=r,\n",
        "\n",
        "Gn(r,'r)=1/(2n+1)R*(r/R)^n*[('r/R)^(-n-1)-(r/R)^n] for 'r>=r,\n",
        "\n",
        "u=sigma(n=0,infinite){1/2*an0Pn(cos(theta)+sigma(m=1,n)(anmcosm(phi)+bnmsinm(phi))Pnm(cos(theta))}\n",
        "\n",
        "u(r,theta,phi)=integral(-pi,pi)integral(0,pi)integral(0,R)G(r,theta,phi;'r,'theta,'phi)F('r,'theta,'phi)'r^2*sin'thetad'rd'thetad'phi\n",
        "\n",
        "G(r,theta,phi;'r,'theta,'phi)=1/4piR*sigma(n=0,infinite)('r/R)^n[(r/R)^(-n-1)-(r/R)^n)Pn(cos'theta)\n",
        "\n",
        "cos('theta)=costheta*cos'theta+sintheta*sin'theta*cos(phi-'phi)\n",
        "\n",
        "G(r,theta,phi;'r,'theta,'phi)=1/4pi(r^2+('r)^2-2r'rcos('theta')^(-1/2)-1/4pi(R^2+r^2'r^2-2r'rcos'theta)^(-1/2)\n",
        "\n",
        "G=1/4pi{(x-'x)^2+(y-'y)^2+(z-'z^2)}^(-1/2)-1/4pi*(R/r){(x-'x(R/'r)^2)^2+(y-'y(R/'r)^2)^2+(z-'z(R/'r)^2)^2}^(-1/2)"
      ]
    },
    {
      "cell_type": "markdown",
      "metadata": {
        "id": "-YBteqJq8RlH",
        "colab_type": "text"
      },
      "source": [
        "## Laplace's Equation in the Sphere"
      ]
    },
    {
      "cell_type": "markdown",
      "metadata": {
        "id": "Bn8-Rxnr8RlI",
        "colab_type": "text"
      },
      "source": [
        "We consider the boundary value problem\n",
        "\n",
        ">$\\begin{align*}\n",
        " u_{rr} +\\frac{2}{r} u_r &+\\frac{1}{r^2}u_{\\phi\\phi} +\\frac{\\cot\\phi}{r^2} u_{\\phi} +\\frac{1}{r^2\\sin^2\\phi}u_{\\theta\\theta} = 0, \\;\\; r < R \\\\ \n",
        " u(R,\\phi,\\theta) &= g(\\phi,\\theta)\\\\ \n",
        "\\end{align*}$\n",
        "\n",
        "in a sphere of radius $R$. (a) Solve this problem by separation of variables, (b) derive $K(r,\\phi,\\theta; R,\\varphi,\\vartheta)$ in the equivalent integral formula:\n",
        "\n",
        ">$\\displaystyle u(r,\\phi,\\theta) = \\int_0^{2\\pi} \\int_0^\\pi K(r,\\phi,\\theta; R,\\varphi,\\vartheta)\\, g(\\varphi,\\vartheta) \\sin\\varphi \\,d\\varphi \\, d\\vartheta$"
      ]
    },
    {
      "cell_type": "markdown",
      "metadata": {
        "id": "NqY5VTVL8RlJ",
        "colab_type": "text"
      },
      "source": [
        "## Poisson's Equation for the Sphere"
      ]
    },
    {
      "cell_type": "markdown",
      "metadata": {
        "id": "Xz1EgsKz8RlK",
        "colab_type": "text"
      },
      "source": [
        "We consider the problem\n",
        "\n",
        ">$\\begin{align*}\n",
        " u_{rr} +\\frac{2}{r} u_r &+\\frac{1}{r^2}u_{\\phi\\phi} +\\frac{\\cot\\phi}{r^2} u_{\\phi} +\\frac{1}{r^2\\sin^2\\phi}u_{\\theta\\theta} = -F(r,\\phi,\\theta), \\;\\; r < R \\\\ \n",
        " u(R,\\phi,\\theta) &= 0\\\\ \n",
        "\\end{align*}$\n",
        "\n",
        "(a) solve by taking the finite Fourier Transforms, (b) derive $G(r,\\phi,\\theta; \\rho,\\varphi,\\vartheta)$ in the equivalent integral formula:\n",
        "\n",
        ">$\\displaystyle u(r,\\phi,\\theta) = \\int_0^{2\\pi} \\int_0^\\pi \\int_0^R G(r,\\phi,\\theta; \\rho,\\varphi,\\vartheta)\\, F(\\rho, \\varphi,\\vartheta) \\,\\rho^2 \\sin\\varphi \\,d\\rho \\,d\\varphi \\, d\\vartheta$"
      ]
    }
  ]
}